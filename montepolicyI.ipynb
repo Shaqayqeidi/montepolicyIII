{
 "cells": [
  {
   "cell_type": "code",
   "execution_count": 1,
   "metadata": {},
   "outputs": [],
   "source": [
    "import numpy as np\n",
    "import random\n",
    "from random import sample\n",
    "import math "
   ]
  },
  {
   "cell_type": "code",
   "execution_count": 2,
   "metadata": {},
   "outputs": [],
   "source": [
    "def reset1():\n",
    "    st=np.zeros(16)\n",
    "    return st\n"
   ]
  },
  {
   "cell_type": "code",
   "execution_count": 3,
   "metadata": {},
   "outputs": [],
   "source": [
    "weibull_scale=(2365.08,996.88,713.55,1406.84,343.76,3933.12,828.19,2040.95)\n",
    "weibull_shape=(414.16,109.25,79.81,115.21,169.81,143.60,43.83,296.48)\n",
    "tf=(2,6.5,2.5,6,5,3.5,3,3.5)\n",
    "tp=(0.4,5.42,0.625,0.857,1.25,0.7,0.429,0.875)\n",
    "time_interval=5\n",
    "running_time=100000"
   ]
  },
  {
   "cell_type": "code",
   "execution_count": 4,
   "metadata": {},
   "outputs": [],
   "source": [
    "def step1 (action,st):\n",
    "    \n",
    "    for i in range(8):\n",
    "        f = random.weibullvariate(weibull_scale[i],weibull_shape[i])\n",
    "        if action[i]==0 :\n",
    "            if f < st[i]:\n",
    "                st[i+8]=1\n",
    "                st[i]=0\n",
    "            else:\n",
    "                st[i+8]=0\n",
    "                st[i] +=5\n",
    "        if action[i]==1 :\n",
    "                st[i]=0\n",
    "            \n",
    "        \n",
    "    reward=np.zeros(8)\n",
    "    for j in range(8):\n",
    "        if action[j]==1 :\n",
    "            reward[j]= - (time_interval / tp[j])*tp[j]\n",
    "        \n",
    "        if (action[j]==0 and st[j+8]==1):\n",
    "            reward[j] = - (time_interval / tp[j])*time_interval * math.ceil(tf[j]/time_interval)\n",
    "            \n",
    "        else:\n",
    "            reward[j]=5\n",
    "    \n",
    "    return st,reward \n",
    "                "
   ]
  },
  {
   "cell_type": "code",
   "execution_count": 5,
   "metadata": {},
   "outputs": [],
   "source": [
    "def actionll(st):\n",
    "    a=np.zeros(8)\n",
    "    T=np.zeros(8)\n",
    "    for i in range(8):\n",
    "        T[i]= random.randint(200,4000)\n",
    "        if st[i] < T[i]:\n",
    "            a[i]=0\n",
    "        else:\n",
    "            a[i]=1\n",
    "    \n",
    "    return a , T\n",
    "        "
   ]
  },
  {
   "cell_type": "code",
   "execution_count": 6,
   "metadata": {},
   "outputs": [],
   "source": [
    "action_sapce_random = [random.choice([0,1]),random.choice([0,1]),random.choice([0,1]),\n",
    "                                random.choice([0,1]),random.choice([0,1]),random.choice([0,1]),\n",
    "                                random.choice([0,1]),random.choice([0,1])]"
   ]
  },
  {
   "cell_type": "code",
   "execution_count": 7,
   "metadata": {},
   "outputs": [
    {
     "data": {
      "text/plain": [
       "[1, 1, 1, 0, 1, 1, 1, 1]"
      ]
     },
     "execution_count": 7,
     "metadata": {},
     "output_type": "execute_result"
    }
   ],
   "source": [
    "action_sapce_random"
   ]
  },
  {
   "cell_type": "code",
   "execution_count": 8,
   "metadata": {},
   "outputs": [],
   "source": [
    "b=reset1()"
   ]
  },
  {
   "cell_type": "code",
   "execution_count": 9,
   "metadata": {},
   "outputs": [],
   "source": [
    "a=actionll(b)[0]\n"
   ]
  },
  {
   "cell_type": "code",
   "execution_count": 10,
   "metadata": {},
   "outputs": [],
   "source": [
    "st , r = step1(a,b)"
   ]
  },
  {
   "cell_type": "code",
   "execution_count": 11,
   "metadata": {},
   "outputs": [
    {
     "data": {
      "text/plain": [
       "array([5., 5., 5., 5., 5., 5., 5., 5., 0., 0., 0., 0., 0., 0., 0., 0.])"
      ]
     },
     "execution_count": 11,
     "metadata": {},
     "output_type": "execute_result"
    }
   ],
   "source": [
    "st "
   ]
  },
  {
   "cell_type": "code",
   "execution_count": 12,
   "metadata": {},
   "outputs": [
    {
     "data": {
      "text/plain": [
       "0.0"
      ]
     },
     "execution_count": 12,
     "metadata": {},
     "output_type": "execute_result"
    }
   ],
   "source": [
    "st[0]\n",
    "st[8]"
   ]
  },
  {
   "cell_type": "code",
   "execution_count": 13,
   "metadata": {},
   "outputs": [
    {
     "data": {
      "text/plain": [
       "[5.0, 0.0]"
      ]
     },
     "execution_count": 13,
     "metadata": {},
     "output_type": "execute_result"
    }
   ],
   "source": [
    "state_one_component=[]\n",
    "state_one_component.append(st[0])\n",
    "state_one_component.append(st[8])\n",
    "state_one_component"
   ]
  },
  {
   "cell_type": "code",
   "execution_count": 14,
   "metadata": {},
   "outputs": [
    {
     "data": {
      "text/plain": [
       "array([5., 5., 5., 5., 5., 5., 5., 5.])"
      ]
     },
     "execution_count": 14,
     "metadata": {},
     "output_type": "execute_result"
    }
   ],
   "source": [
    "r"
   ]
  },
  {
   "cell_type": "code",
   "execution_count": 15,
   "metadata": {},
   "outputs": [
    {
     "data": {
      "text/plain": [
       "[[array([0., 0., 0., 0., 0., 0., 0., 0.]),\n",
       "  array([5., 5., 5., 5., 5., 5., 5., 5., 0., 0., 0., 0., 0., 0., 0., 0.])]]"
      ]
     },
     "execution_count": 15,
     "metadata": {},
     "output_type": "execute_result"
    }
   ],
   "source": [
    "timestep = []\n",
    "timestep.append(a)\n",
    "timestep.append(st)\n",
    "episode=[]\n",
    "episode.append(timestep)\n",
    "episode"
   ]
  },
  {
   "cell_type": "code",
   "execution_count": 16,
   "metadata": {},
   "outputs": [],
   "source": [
    "#def choose_"
   ]
  },
  {
   "cell_type": "code",
   "execution_count": 23,
   "metadata": {},
   "outputs": [],
   "source": [
    "#monte carlo first visit\n",
    "def monte_carlo_I ():\n",
    "    for i in range(8):\n",
    "        Q = np.matrix(np.full([40000,2],0))\n",
    "        #Return = np.matrix(np.empty([40000,2]))\n",
    "        returns = {}\n",
    "        policy = np.matrix(np.full([40000,2],0.5))\n",
    "        \n",
    "        num_episodes=1000 \n",
    "        \n",
    "        for epi in range(num_episodes):# Looping through episodes\n",
    "            # Initializes the state\n",
    "            s_t = reset1()\n",
    "            episode = []\n",
    "            epsilon = 1/(epi+1)\n",
    "            G = 0 # Store cumulative reward in G (initialized at 0)\n",
    "            for j in range(running_time//time_interval):\n",
    "            \n",
    "                timestep = []\n",
    "                a_t = action_sapce_random\n",
    "                s_t , r_t = step1(a_t, s_t)\n",
    "                state_one_component=[]\n",
    "                state_one_component.append(s_t[i])\n",
    "                state_one_component.append(s_t[i+8])\n",
    "                timestep.append(tuple(state_one_component))\n",
    "                timestep.append(a_t[i])\n",
    "                episode.append(timestep)\n",
    "                 \n",
    "                state_action = (tuple(state_one_component),a_t[i])\n",
    "                G += r_t # Increment total reward by reward on current timestep\n",
    "            \n",
    "            \n",
    "            if not state_action in [(x[0], x[1]) for x in episode[0:j]]:\n",
    "                \n",
    "                returns[state_action].append(G)    \n",
    "                          \n",
    "                Q[tuple(state_one_component)][a_t[i]] = sum(returns[state_action]) / len(returns[state_action]) # Average reward across episodes\n",
    "                \n",
    "                Q_list = list(map(lambda x: x[1], Q[tuple(state_one_component)].items())) # Finding the action with maximum value\n",
    "                indices = [i for i, x in enumerate(Q_list) if x == max(Q_list)]\n",
    "                max_Q = random.choice(indices)\n",
    "                \n",
    "                A_star = max_Q # 14.\n",
    "                \n",
    "                for a in policy[state_one_component].items(): # Update action probability for s_t in policy\n",
    "                    if a[0] == A_star:\n",
    "                        policy[tuple(state_one_component)][a_t[i]] = 1 - epsilon + (epsilon / abs(sum(policy[tuple(state_one_component)].values())))\n",
    "                    else:\n",
    "                        policy[tuple(state_one_component)][a_t[i]] = (epsilon / abs(sum(policy[tuple(state_one_component)].values())))\n",
    "\n",
    "            \n",
    "    return policy , Q\n",
    "            "
   ]
  },
  {
   "cell_type": "code",
   "execution_count": 24,
   "metadata": {},
   "outputs": [
    {
     "data": {
      "text/plain": [
       "(matrix([[0.5, 0.5],\n",
       "         [0.5, 0.5],\n",
       "         [0.5, 0.5],\n",
       "         ...,\n",
       "         [0.5, 0.5],\n",
       "         [0.5, 0.5],\n",
       "         [0.5, 0.5]]), matrix([[0, 0],\n",
       "         [0, 0],\n",
       "         [0, 0],\n",
       "         ...,\n",
       "         [0, 0],\n",
       "         [0, 0],\n",
       "         [0, 0]]))"
      ]
     },
     "execution_count": 24,
     "metadata": {},
     "output_type": "execute_result"
    }
   ],
   "source": [
    "monte_carlo_I ()"
   ]
  },
  {
   "cell_type": "code",
   "execution_count": null,
   "metadata": {},
   "outputs": [],
   "source": []
  }
 ],
 "metadata": {
  "kernelspec": {
   "display_name": "Python 3",
   "language": "python",
   "name": "python3"
  },
  "language_info": {
   "codemirror_mode": {
    "name": "ipython",
    "version": 3
   },
   "file_extension": ".py",
   "mimetype": "text/x-python",
   "name": "python",
   "nbconvert_exporter": "python",
   "pygments_lexer": "ipython3",
   "version": "3.7.3"
  }
 },
 "nbformat": 4,
 "nbformat_minor": 2
}
